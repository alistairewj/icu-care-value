{
 "cells": [
  {
   "cell_type": "markdown",
   "metadata": {},
   "source": [
    "**Notebook display settings**\n",
    "\n",
    "This cell enables inline charts and sets table display settings"
   ]
  },
  {
   "cell_type": "code",
   "execution_count": 1,
   "metadata": {
    "collapsed": false
   },
   "outputs": [],
   "source": [
    "%matplotlib inline\n",
    "\n",
    "import matplotlib\n",
    "matplotlib.style.use('ggplot')\n",
    "matplotlib.rcParams['figure.figsize'] = (10.0, 8.0)\n",
    "\n",
    "import pandas as pd\n",
    "pd.options.display.max_columns = 10\n",
    "pd.options.display.max_rows = 10"
   ]
  },
  {
   "cell_type": "markdown",
   "metadata": {},
   "source": [
    "**Importing the MIMIC `session` module**\n",
    "\n",
    "The `session` module provides the ability to log in for easy access to the  MIMIC database. Once logged in, the rest of the library just works.\n",
    "\n",
    "Another ability provided by `session` is to enable local storage. Once enabled, this will cause `chatto-transform` to store the results of all queries it makes to the mimic database on the filesystem. Then, if the same queries are requested again later, they'll be loaded into the program without connecting to the remote database. Loading from local storage is about 10 times faster than going to the database."
   ]
  },
  {
   "cell_type": "code",
   "execution_count": 2,
   "metadata": {
    "collapsed": false
   },
   "outputs": [],
   "source": [
    "from chatto_transform.lib.mimic import session\n",
    "\n",
    "session.login()\n",
    "session.enable_local_storage('/Users/dan/dev/data/mimic')"
   ]
  },
  {
   "cell_type": "markdown",
   "metadata": {},
   "source": [
    "**Importing pre-defined transforms**\n",
    "\n",
    "The two transforms **AgeTransform** and **AgeHistTransform** capture this query from the MIMIC cookbook:\n",
    "\n",
    "```\n",
    "select bucket+15, count(*) from (\n",
    "    select\n",
    "        months_between(ad.admit_dt, dp.dob)/12,\n",
    "        width_bucket(months_between(ad.admit_dt, dp.dob)/12, 15, 100, 85) as bucket\n",
    "    from\n",
    "        mimic2v26.admissions ad,\n",
    "        mimic2v26.d_patients dp\n",
    "    where\n",
    "        ad.subject_id = dp.subject_id\n",
    "        and months_between(ad.admit_dt, dp.dob)/12 between 15 and 199\n",
    ") sub\n",
    "group by bucket\n",
    "order by bucket;\n",
    "```"
   ]
  },
  {
   "cell_type": "code",
   "execution_count": 3,
   "metadata": {
    "collapsed": true
   },
   "outputs": [],
   "source": [
    "from chatto_transform.transforms.mimic.age_transform import AgeTransform, AgeHistTransform"
   ]
  },
  {
   "cell_type": "code",
   "execution_count": 4,
   "metadata": {
    "collapsed": false,
    "scrolled": true
   },
   "outputs": [],
   "source": [
    "# load the tables 'admissions' and 'd_patients' and merges them\n",
    "age_df = AgeTransform().load_transform()"
   ]
  },
  {
   "cell_type": "code",
   "execution_count": 5,
   "metadata": {
    "collapsed": false
   },
   "outputs": [
    {
     "data": {
      "text/html": [
       "<div>\n",
       "<table border=\"1\" class=\"dataframe\">\n",
       "  <thead>\n",
       "    <tr style=\"text-align: right;\">\n",
       "      <th></th>\n",
       "      <th>admissions.hadm_id</th>\n",
       "      <th>admissions.subject_id</th>\n",
       "      <th>admissions.admit_dt</th>\n",
       "      <th>admissions.disch_dt</th>\n",
       "      <th>d_patients.subject_id</th>\n",
       "      <th>d_patients.sex</th>\n",
       "      <th>d_patients.dob</th>\n",
       "      <th>d_patients.dod</th>\n",
       "      <th>d_patients.hospital_expire_flg</th>\n",
       "      <th>age_at_admission</th>\n",
       "    </tr>\n",
       "  </thead>\n",
       "  <tbody>\n",
       "    <tr>\n",
       "      <th>1</th>\n",
       "      <td>2075</td>\n",
       "      <td>3</td>\n",
       "      <td>2682-09-07 00:00:00</td>\n",
       "      <td>2682-09-18 00:00:00</td>\n",
       "      <td>3</td>\n",
       "      <td>M</td>\n",
       "      <td>2606-02-28 00:00:00</td>\n",
       "      <td>2683-05-02 00:00:00</td>\n",
       "      <td>N</td>\n",
       "      <td>76</td>\n",
       "    </tr>\n",
       "    <tr>\n",
       "      <th>2</th>\n",
       "      <td>17296</td>\n",
       "      <td>4</td>\n",
       "      <td>3399-04-03 00:00:00</td>\n",
       "      <td>3399-04-10 00:00:00</td>\n",
       "      <td>4</td>\n",
       "      <td>F</td>\n",
       "      <td>3351-05-30 00:00:00</td>\n",
       "      <td>NaN</td>\n",
       "      <td>N</td>\n",
       "      <td>47</td>\n",
       "    </tr>\n",
       "    <tr>\n",
       "      <th>4</th>\n",
       "      <td>23467</td>\n",
       "      <td>6</td>\n",
       "      <td>3389-07-07 00:00:00</td>\n",
       "      <td>3389-07-23 00:00:00</td>\n",
       "      <td>6</td>\n",
       "      <td>F</td>\n",
       "      <td>3323-07-30 00:00:00</td>\n",
       "      <td>NaN</td>\n",
       "      <td>N</td>\n",
       "      <td>65</td>\n",
       "    </tr>\n",
       "    <tr>\n",
       "      <th>7</th>\n",
       "      <td>8253</td>\n",
       "      <td>9</td>\n",
       "      <td>2984-12-12 00:00:00</td>\n",
       "      <td>2984-12-17 00:00:00</td>\n",
       "      <td>9</td>\n",
       "      <td>M</td>\n",
       "      <td>2943-02-28 00:00:00</td>\n",
       "      <td>2984-12-17 00:00:00</td>\n",
       "      <td>Y</td>\n",
       "      <td>41</td>\n",
       "    </tr>\n",
       "    <tr>\n",
       "      <th>9</th>\n",
       "      <td>28128</td>\n",
       "      <td>11</td>\n",
       "      <td>2648-05-04 00:00:00</td>\n",
       "      <td>2648-05-29 00:00:00</td>\n",
       "      <td>11</td>\n",
       "      <td>F</td>\n",
       "      <td>2598-03-11 00:00:00</td>\n",
       "      <td>2648-12-02 00:00:00</td>\n",
       "      <td>N</td>\n",
       "      <td>50</td>\n",
       "    </tr>\n",
       "    <tr>\n",
       "      <th>...</th>\n",
       "      <td>...</td>\n",
       "      <td>...</td>\n",
       "      <td>...</td>\n",
       "      <td>...</td>\n",
       "      <td>...</td>\n",
       "      <td>...</td>\n",
       "      <td>...</td>\n",
       "      <td>...</td>\n",
       "      <td>...</td>\n",
       "      <td>...</td>\n",
       "    </tr>\n",
       "    <tr>\n",
       "      <th>36055</th>\n",
       "      <td>32053</td>\n",
       "      <td>32804</td>\n",
       "      <td>3433-12-22 00:00:00</td>\n",
       "      <td>3434-01-13 00:00:00</td>\n",
       "      <td>32804</td>\n",
       "      <td>M</td>\n",
       "      <td>3354-04-26 00:00:00</td>\n",
       "      <td>NaN</td>\n",
       "      <td>N</td>\n",
       "      <td>79</td>\n",
       "    </tr>\n",
       "    <tr>\n",
       "      <th>36056</th>\n",
       "      <td>34884</td>\n",
       "      <td>32805</td>\n",
       "      <td>2986-11-16 00:00:00</td>\n",
       "      <td>2986-12-28 00:00:00</td>\n",
       "      <td>32805</td>\n",
       "      <td>M</td>\n",
       "      <td>2920-12-13 00:00:00</td>\n",
       "      <td>NaN</td>\n",
       "      <td>N</td>\n",
       "      <td>65</td>\n",
       "    </tr>\n",
       "    <tr>\n",
       "      <th>36058</th>\n",
       "      <td>32736</td>\n",
       "      <td>32807</td>\n",
       "      <td>2594-10-08 00:00:00</td>\n",
       "      <td>2594-10-14 00:00:00</td>\n",
       "      <td>32807</td>\n",
       "      <td>M</td>\n",
       "      <td>2513-10-04 00:00:00</td>\n",
       "      <td>NaN</td>\n",
       "      <td>N</td>\n",
       "      <td>81</td>\n",
       "    </tr>\n",
       "    <tr>\n",
       "      <th>36059</th>\n",
       "      <td>34401</td>\n",
       "      <td>32808</td>\n",
       "      <td>2888-07-15 00:00:00</td>\n",
       "      <td>2888-07-16 00:00:00</td>\n",
       "      <td>32808</td>\n",
       "      <td>F</td>\n",
       "      <td>2840-05-14 00:00:00</td>\n",
       "      <td>NaN</td>\n",
       "      <td>N</td>\n",
       "      <td>48</td>\n",
       "    </tr>\n",
       "    <tr>\n",
       "      <th>36060</th>\n",
       "      <td>29836</td>\n",
       "      <td>32809</td>\n",
       "      <td>3420-08-01 00:00:00</td>\n",
       "      <td>3420-08-07 00:00:00</td>\n",
       "      <td>32809</td>\n",
       "      <td>F</td>\n",
       "      <td>3348-05-02 00:00:00</td>\n",
       "      <td>NaN</td>\n",
       "      <td>N</td>\n",
       "      <td>72</td>\n",
       "    </tr>\n",
       "  </tbody>\n",
       "</table>\n",
       "<p>27790 rows × 10 columns</p>\n",
       "</div>"
      ],
      "text/plain": [
       "       admissions.hadm_id  admissions.subject_id  admissions.admit_dt  \\\n",
       "1                    2075                      3  2682-09-07 00:00:00   \n",
       "2                   17296                      4  3399-04-03 00:00:00   \n",
       "4                   23467                      6  3389-07-07 00:00:00   \n",
       "7                    8253                      9  2984-12-12 00:00:00   \n",
       "9                   28128                     11  2648-05-04 00:00:00   \n",
       "...                   ...                    ...                  ...   \n",
       "36055               32053                  32804  3433-12-22 00:00:00   \n",
       "36056               34884                  32805  2986-11-16 00:00:00   \n",
       "36058               32736                  32807  2594-10-08 00:00:00   \n",
       "36059               34401                  32808  2888-07-15 00:00:00   \n",
       "36060               29836                  32809  3420-08-01 00:00:00   \n",
       "\n",
       "       admissions.disch_dt  d_patients.subject_id d_patients.sex  \\\n",
       "1      2682-09-18 00:00:00                      3              M   \n",
       "2      3399-04-10 00:00:00                      4              F   \n",
       "4      3389-07-23 00:00:00                      6              F   \n",
       "7      2984-12-17 00:00:00                      9              M   \n",
       "9      2648-05-29 00:00:00                     11              F   \n",
       "...                    ...                    ...            ...   \n",
       "36055  3434-01-13 00:00:00                  32804              M   \n",
       "36056  2986-12-28 00:00:00                  32805              M   \n",
       "36058  2594-10-14 00:00:00                  32807              M   \n",
       "36059  2888-07-16 00:00:00                  32808              F   \n",
       "36060  3420-08-07 00:00:00                  32809              F   \n",
       "\n",
       "            d_patients.dob       d_patients.dod  \\\n",
       "1      2606-02-28 00:00:00  2683-05-02 00:00:00   \n",
       "2      3351-05-30 00:00:00                  NaN   \n",
       "4      3323-07-30 00:00:00                  NaN   \n",
       "7      2943-02-28 00:00:00  2984-12-17 00:00:00   \n",
       "9      2598-03-11 00:00:00  2648-12-02 00:00:00   \n",
       "...                    ...                  ...   \n",
       "36055  3354-04-26 00:00:00                  NaN   \n",
       "36056  2920-12-13 00:00:00                  NaN   \n",
       "36058  2513-10-04 00:00:00                  NaN   \n",
       "36059  2840-05-14 00:00:00                  NaN   \n",
       "36060  3348-05-02 00:00:00                  NaN   \n",
       "\n",
       "      d_patients.hospital_expire_flg  age_at_admission  \n",
       "1                                  N                76  \n",
       "2                                  N                47  \n",
       "4                                  N                65  \n",
       "7                                  Y                41  \n",
       "9                                  N                50  \n",
       "...                              ...               ...  \n",
       "36055                              N                79  \n",
       "36056                              N                65  \n",
       "36058                              N                81  \n",
       "36059                              N                48  \n",
       "36060                              N                72  \n",
       "\n",
       "[27790 rows x 10 columns]"
      ]
     },
     "execution_count": 5,
     "metadata": {},
     "output_type": "execute_result"
    }
   ],
   "source": [
    "age_df"
   ]
  },
  {
   "cell_type": "markdown",
   "metadata": {},
   "source": [
    "**Creating a histogram of age at admission**\n",
    "\n",
    "\n",
    "The functionality for creating this histogram is wrapped up in the AgeHistTransform class, but it's quite simple. Pass in a DataFrame with an 'age_at_admission' column, get out a histogram."
   ]
  },
  {
   "cell_type": "code",
   "execution_count": 6,
   "metadata": {
    "collapsed": false,
    "scrolled": false
   },
   "outputs": [],
   "source": [
    "age_count_df = AgeHistTransform().transform(age_df)"
   ]
  },
  {
   "cell_type": "code",
   "execution_count": 7,
   "metadata": {
    "collapsed": false
   },
   "outputs": [
    {
     "data": {
      "text/html": [
       "<div>\n",
       "<table border=\"1\" class=\"dataframe\">\n",
       "  <thead>\n",
       "    <tr style=\"text-align: right;\">\n",
       "      <th></th>\n",
       "      <th>count</th>\n",
       "    </tr>\n",
       "  </thead>\n",
       "  <tbody>\n",
       "    <tr>\n",
       "      <th>15</th>\n",
       "      <td>9</td>\n",
       "    </tr>\n",
       "    <tr>\n",
       "      <th>16</th>\n",
       "      <td>20</td>\n",
       "    </tr>\n",
       "    <tr>\n",
       "      <th>17</th>\n",
       "      <td>50</td>\n",
       "    </tr>\n",
       "    <tr>\n",
       "      <th>18</th>\n",
       "      <td>102</td>\n",
       "    </tr>\n",
       "    <tr>\n",
       "      <th>19</th>\n",
       "      <td>110</td>\n",
       "    </tr>\n",
       "    <tr>\n",
       "      <th>...</th>\n",
       "      <td>...</td>\n",
       "    </tr>\n",
       "    <tr>\n",
       "      <th>96</th>\n",
       "      <td>37</td>\n",
       "    </tr>\n",
       "    <tr>\n",
       "      <th>97</th>\n",
       "      <td>14</td>\n",
       "    </tr>\n",
       "    <tr>\n",
       "      <th>98</th>\n",
       "      <td>21</td>\n",
       "    </tr>\n",
       "    <tr>\n",
       "      <th>99</th>\n",
       "      <td>14</td>\n",
       "    </tr>\n",
       "    <tr>\n",
       "      <th>100</th>\n",
       "      <td>7</td>\n",
       "    </tr>\n",
       "  </tbody>\n",
       "</table>\n",
       "<p>86 rows × 1 columns</p>\n",
       "</div>"
      ],
      "text/plain": [
       "     count\n",
       "15       9\n",
       "16      20\n",
       "17      50\n",
       "18     102\n",
       "19     110\n",
       "..     ...\n",
       "96      37\n",
       "97      14\n",
       "98      21\n",
       "99      14\n",
       "100      7\n",
       "\n",
       "[86 rows x 1 columns]"
      ]
     },
     "execution_count": 7,
     "metadata": {},
     "output_type": "execute_result"
    }
   ],
   "source": [
    "age_count_df"
   ]
  },
  {
   "cell_type": "markdown",
   "metadata": {},
   "source": [
    "**Plot the histogram**\n",
    "\n",
    "\n",
    "(Axes need work...)"
   ]
  },
  {
   "cell_type": "code",
   "execution_count": 8,
   "metadata": {
    "collapsed": false
   },
   "outputs": [
    {
     "data": {
      "text/plain": [
       "<matplotlib.axes._subplots.AxesSubplot at 0x10dc76d68>"
      ]
     },
     "execution_count": 8,
     "metadata": {},
     "output_type": "execute_result"
    },
    {
     "data": {
      "image/png": "[encoded data removed]",
      "text/plain": [
       "<matplotlib.figure.Figure at 0x10e31b160>"
      ]
     },
     "metadata": {},
     "output_type": "display_data"
    }
   ],
   "source": [
    "age_count_df.plot(kind='bar')"
   ]
  },
  {
   "cell_type": "markdown",
   "metadata": {},
   "source": [
    "**Importing the Blood Urea Nitrogen transform**\n",
    "\n",
    "Capturing the 'bun' recipe from the MIMIC cookbook:\n",
    "\n",
    "```\n",
    "select bucket, count(*) from (\n",
    "  select width_bucket(valuenum, 0, 280, 280) as bucket\n",
    "    from mimic2v26.labevents le,\n",
    "         mimic2v26.d_patients dp\n",
    "   where itemid in (50177)\n",
    "     and le.subject_id = dp.subject_id\n",
    "     and months_between(le.charttime, dp.dob)/12 > 15\n",
    "  ) group by bucket order by bucket;\n",
    "```"
   ]
  },
  {
   "cell_type": "code",
   "execution_count": 9,
   "metadata": {
    "collapsed": true
   },
   "outputs": [],
   "source": [
    "from chatto_transform.transforms.mimic.bun_transform import BUNTransform, BUNHistTransform"
   ]
  },
  {
   "cell_type": "markdown",
   "metadata": {},
   "source": [
    "Loading a subset of the large table, **labevents**. This table has over 10 million rows, but the subset we're selecting (BUN tests) is about 500k. Because we have enabled **local storage**, this query takes a bit under 2 minutes to run the first time, and about 7 seconds every time thereafter."
   ]
  },
  {
   "cell_type": "code",
   "execution_count": 20,
   "metadata": {
    "collapsed": true
   },
   "outputs": [],
   "source": [
    "bun_df = BUNTransform().load_transform()"
   ]
  },
  {
   "cell_type": "markdown",
   "metadata": {},
   "source": [
    "Scrolling to the right side of this table reveals that in addition to joining the **labevents** and **d_patients** columns, we have also computed 2 new columns: \"age_at_labevent\" and \"bun\".\n",
    "\n",
    "See the code in `chatto_transform/transforms/mimic/bun_transform.py` to get a sense of what computing those extra columns looks like."
   ]
  },
  {
   "cell_type": "code",
   "execution_count": 11,
   "metadata": {
    "collapsed": false
   },
   "outputs": [
    {
     "data": {
      "text/html": [
       "<div>\n",
       "<table border=\"1\" class=\"dataframe\">\n",
       "  <thead>\n",
       "    <tr style=\"text-align: right;\">\n",
       "      <th></th>\n",
       "      <th>labevents.subject_id</th>\n",
       "      <th>labevents.hadm_id</th>\n",
       "      <th>labevents.icustay_id</th>\n",
       "      <th>labevents.itemid</th>\n",
       "      <th>labevents.charttime</th>\n",
       "      <th>...</th>\n",
       "      <th>d_patients.dob</th>\n",
       "      <th>d_patients.dod</th>\n",
       "      <th>d_patients.hospital_expire_flg</th>\n",
       "      <th>age_at_labevent</th>\n",
       "      <th>bun</th>\n",
       "    </tr>\n",
       "  </thead>\n",
       "  <tbody>\n",
       "    <tr>\n",
       "      <th>0</th>\n",
       "      <td>3</td>\n",
       "      <td>NaN</td>\n",
       "      <td>NaN</td>\n",
       "      <td>50177</td>\n",
       "      <td>2682-08-22 16:24:00</td>\n",
       "      <td>...</td>\n",
       "      <td>2606-02-28 00:00:00</td>\n",
       "      <td>2683-05-02 00:00:00</td>\n",
       "      <td>N</td>\n",
       "      <td>76</td>\n",
       "      <td>42</td>\n",
       "    </tr>\n",
       "    <tr>\n",
       "      <th>1</th>\n",
       "      <td>3</td>\n",
       "      <td>NaN</td>\n",
       "      <td>NaN</td>\n",
       "      <td>50177</td>\n",
       "      <td>2682-08-23 07:00:00</td>\n",
       "      <td>...</td>\n",
       "      <td>2606-02-28 00:00:00</td>\n",
       "      <td>2683-05-02 00:00:00</td>\n",
       "      <td>N</td>\n",
       "      <td>76</td>\n",
       "      <td>35</td>\n",
       "    </tr>\n",
       "    <tr>\n",
       "      <th>2</th>\n",
       "      <td>3</td>\n",
       "      <td>NaN</td>\n",
       "      <td>NaN</td>\n",
       "      <td>50177</td>\n",
       "      <td>2682-08-24 06:45:00</td>\n",
       "      <td>...</td>\n",
       "      <td>2606-02-28 00:00:00</td>\n",
       "      <td>2683-05-02 00:00:00</td>\n",
       "      <td>N</td>\n",
       "      <td>76</td>\n",
       "      <td>32</td>\n",
       "    </tr>\n",
       "    <tr>\n",
       "      <th>3</th>\n",
       "      <td>3</td>\n",
       "      <td>NaN</td>\n",
       "      <td>NaN</td>\n",
       "      <td>50177</td>\n",
       "      <td>2682-08-25 05:30:00</td>\n",
       "      <td>...</td>\n",
       "      <td>2606-02-28 00:00:00</td>\n",
       "      <td>2683-05-02 00:00:00</td>\n",
       "      <td>N</td>\n",
       "      <td>76</td>\n",
       "      <td>31</td>\n",
       "    </tr>\n",
       "    <tr>\n",
       "      <th>4</th>\n",
       "      <td>3</td>\n",
       "      <td>NaN</td>\n",
       "      <td>NaN</td>\n",
       "      <td>50177</td>\n",
       "      <td>2682-08-29 20:10:00</td>\n",
       "      <td>...</td>\n",
       "      <td>2606-02-28 00:00:00</td>\n",
       "      <td>2683-05-02 00:00:00</td>\n",
       "      <td>N</td>\n",
       "      <td>76</td>\n",
       "      <td>42</td>\n",
       "    </tr>\n",
       "    <tr>\n",
       "      <th>...</th>\n",
       "      <td>...</td>\n",
       "      <td>...</td>\n",
       "      <td>...</td>\n",
       "      <td>...</td>\n",
       "      <td>...</td>\n",
       "      <td>...</td>\n",
       "      <td>...</td>\n",
       "      <td>...</td>\n",
       "      <td>...</td>\n",
       "      <td>...</td>\n",
       "      <td>...</td>\n",
       "    </tr>\n",
       "    <tr>\n",
       "      <th>521643</th>\n",
       "      <td>32809</td>\n",
       "      <td>NaN</td>\n",
       "      <td>NaN</td>\n",
       "      <td>50177</td>\n",
       "      <td>3420-11-13 16:00:00</td>\n",
       "      <td>...</td>\n",
       "      <td>3348-05-02 00:00:00</td>\n",
       "      <td>NaN</td>\n",
       "      <td>N</td>\n",
       "      <td>72</td>\n",
       "      <td>17</td>\n",
       "    </tr>\n",
       "    <tr>\n",
       "      <th>521644</th>\n",
       "      <td>32809</td>\n",
       "      <td>NaN</td>\n",
       "      <td>NaN</td>\n",
       "      <td>50177</td>\n",
       "      <td>3420-11-14 05:50:00</td>\n",
       "      <td>...</td>\n",
       "      <td>3348-05-02 00:00:00</td>\n",
       "      <td>NaN</td>\n",
       "      <td>N</td>\n",
       "      <td>72</td>\n",
       "      <td>17</td>\n",
       "    </tr>\n",
       "    <tr>\n",
       "      <th>521645</th>\n",
       "      <td>32809</td>\n",
       "      <td>NaN</td>\n",
       "      <td>NaN</td>\n",
       "      <td>50177</td>\n",
       "      <td>3421-08-01 10:00:00</td>\n",
       "      <td>...</td>\n",
       "      <td>3348-05-02 00:00:00</td>\n",
       "      <td>NaN</td>\n",
       "      <td>N</td>\n",
       "      <td>73</td>\n",
       "      <td>37</td>\n",
       "    </tr>\n",
       "    <tr>\n",
       "      <th>521646</th>\n",
       "      <td>32809</td>\n",
       "      <td>NaN</td>\n",
       "      <td>NaN</td>\n",
       "      <td>50177</td>\n",
       "      <td>3422-02-15 09:20:00</td>\n",
       "      <td>...</td>\n",
       "      <td>3348-05-02 00:00:00</td>\n",
       "      <td>NaN</td>\n",
       "      <td>N</td>\n",
       "      <td>73</td>\n",
       "      <td>47</td>\n",
       "    </tr>\n",
       "    <tr>\n",
       "      <th>521647</th>\n",
       "      <td>32809</td>\n",
       "      <td>NaN</td>\n",
       "      <td>NaN</td>\n",
       "      <td>50177</td>\n",
       "      <td>3422-04-03 11:45:00</td>\n",
       "      <td>...</td>\n",
       "      <td>3348-05-02 00:00:00</td>\n",
       "      <td>NaN</td>\n",
       "      <td>N</td>\n",
       "      <td>73</td>\n",
       "      <td>25</td>\n",
       "    </tr>\n",
       "  </tbody>\n",
       "</table>\n",
       "<p>519337 rows × 16 columns</p>\n",
       "</div>"
      ],
      "text/plain": [
       "        labevents.subject_id  labevents.hadm_id  labevents.icustay_id  \\\n",
       "0                          3                NaN                   NaN   \n",
       "1                          3                NaN                   NaN   \n",
       "2                          3                NaN                   NaN   \n",
       "3                          3                NaN                   NaN   \n",
       "4                          3                NaN                   NaN   \n",
       "...                      ...                ...                   ...   \n",
       "521643                 32809                NaN                   NaN   \n",
       "521644                 32809                NaN                   NaN   \n",
       "521645                 32809                NaN                   NaN   \n",
       "521646                 32809                NaN                   NaN   \n",
       "521647                 32809                NaN                   NaN   \n",
       "\n",
       "        labevents.itemid  labevents.charttime ...        d_patients.dob  \\\n",
       "0                  50177  2682-08-22 16:24:00 ...   2606-02-28 00:00:00   \n",
       "1                  50177  2682-08-23 07:00:00 ...   2606-02-28 00:00:00   \n",
       "2                  50177  2682-08-24 06:45:00 ...   2606-02-28 00:00:00   \n",
       "3                  50177  2682-08-25 05:30:00 ...   2606-02-28 00:00:00   \n",
       "4                  50177  2682-08-29 20:10:00 ...   2606-02-28 00:00:00   \n",
       "...                  ...                  ... ...                   ...   \n",
       "521643             50177  3420-11-13 16:00:00 ...   3348-05-02 00:00:00   \n",
       "521644             50177  3420-11-14 05:50:00 ...   3348-05-02 00:00:00   \n",
       "521645             50177  3421-08-01 10:00:00 ...   3348-05-02 00:00:00   \n",
       "521646             50177  3422-02-15 09:20:00 ...   3348-05-02 00:00:00   \n",
       "521647             50177  3422-04-03 11:45:00 ...   3348-05-02 00:00:00   \n",
       "\n",
       "             d_patients.dod d_patients.hospital_expire_flg age_at_labevent  \\\n",
       "0       2683-05-02 00:00:00                              N              76   \n",
       "1       2683-05-02 00:00:00                              N              76   \n",
       "2       2683-05-02 00:00:00                              N              76   \n",
       "3       2683-05-02 00:00:00                              N              76   \n",
       "4       2683-05-02 00:00:00                              N              76   \n",
       "...                     ...                            ...             ...   \n",
       "521643                  NaN                              N              72   \n",
       "521644                  NaN                              N              72   \n",
       "521645                  NaN                              N              73   \n",
       "521646                  NaN                              N              73   \n",
       "521647                  NaN                              N              73   \n",
       "\n",
       "        bun  \n",
       "0        42  \n",
       "1        35  \n",
       "2        32  \n",
       "3        31  \n",
       "4        42  \n",
       "...     ...  \n",
       "521643   17  \n",
       "521644   17  \n",
       "521645   37  \n",
       "521646   47  \n",
       "521647   25  \n",
       "\n",
       "[519337 rows x 16 columns]"
      ]
     },
     "execution_count": 11,
     "metadata": {},
     "output_type": "execute_result"
    }
   ],
   "source": [
    "bun_df"
   ]
  },
  {
   "cell_type": "markdown",
   "metadata": {},
   "source": [
    "Now we use the `BUNHistTransform` to get a histogram of BUN levels across all lab tests available in the database."
   ]
  },
  {
   "cell_type": "code",
   "execution_count": 13,
   "metadata": {
    "collapsed": false
   },
   "outputs": [],
   "source": [
    "bun_count_df = BUNHistTransform().transform(bun_df)"
   ]
  },
  {
   "cell_type": "code",
   "execution_count": 14,
   "metadata": {
    "collapsed": false
   },
   "outputs": [
    {
     "data": {
      "text/plain": [
       "<matplotlib.axes._subplots.AxesSubplot at 0x10e475cc0>"
      ]
     },
     "execution_count": 14,
     "metadata": {},
     "output_type": "execute_result"
    },
    {
     "data": {
      "image/png": "[encoded data removed]",
      "text/plain": [
       "<matplotlib.figure.Figure at 0x10e481a90>"
      ]
     },
     "metadata": {},
     "output_type": "display_data"
    }
   ],
   "source": [
    "bun_count_df.plot(kind='bar')"
   ]
  },
  {
   "cell_type": "markdown",
   "metadata": {},
   "source": [
    "We now examine the relationship between `age_at_labevent` and `bun`, and show the results in a another chart."
   ]
  },
  {
   "cell_type": "code",
   "execution_count": 17,
   "metadata": {
    "collapsed": false
   },
   "outputs": [],
   "source": [
    "age_vs_mean = bun_df.groupby('age_at_labevent')['bun'].mean()"
   ]
  },
  {
   "cell_type": "code",
   "execution_count": 18,
   "metadata": {
    "collapsed": false
   },
   "outputs": [
    {
     "data": {
      "text/plain": [
       "age_at_labevent\n",
       "16     10.021583\n",
       "17     14.167095\n",
       "18     13.194067\n",
       "19     12.980930\n",
       "20     17.117647\n",
       "         ...    \n",
       "203    23.642857\n",
       "204    22.925926\n",
       "205    26.384615\n",
       "206    24.818182\n",
       "207    22.388889\n",
       "Name: bun, dtype: float64"
      ]
     },
     "execution_count": 18,
     "metadata": {},
     "output_type": "execute_result"
    }
   ],
   "source": [
    "age_vs_mean"
   ]
  },
  {
   "cell_type": "code",
   "execution_count": 19,
   "metadata": {
    "collapsed": false
   },
   "outputs": [
    {
     "data": {
      "text/plain": [
       "<matplotlib.axes._subplots.AxesSubplot at 0x1603d2b00>"
      ]
     },
     "execution_count": 19,
     "metadata": {},
     "output_type": "execute_result"
    },
    {
     "data": {
      "image/png": "[encoded data removed]",
      "text/plain": [
       "<matplotlib.figure.Figure at 0x10ef4c6a0>"
      ]
     },
     "metadata": {},
     "output_type": "display_data"
    }
   ],
   "source": [
    "age_vs_mean.plot(kind='bar')"
   ]
  }
 ],
 "metadata": {
  "kernelspec": {
   "display_name": "Python 3",
   "language": "python",
   "name": "python3"
  },
  "language_info": {
   "codemirror_mode": {
    "name": "ipython",
    "version": 3
   },
   "file_extension": ".py",
   "mimetype": "text/x-python",
   "name": "python",
   "nbconvert_exporter": "python",
   "pygments_lexer": "ipython3",
   "version": "3.4.3"
  }
 },
 "nbformat": 4,
 "nbformat_minor": 0
}
